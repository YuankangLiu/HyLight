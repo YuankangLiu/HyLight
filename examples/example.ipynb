{
 "cells": [
  {
   "cell_type": "markdown",
   "id": "dd5da9be-109b-416f-9cad-788b7e02d18e",
   "metadata": {},
   "source": [
    "# Hylight"
   ]
  },
  {
   "cell_type": "code",
   "execution_count": 1,
   "id": "b7c682f1-baf2-471f-8c05-5767cbefe3e2",
   "metadata": {},
   "outputs": [],
   "source": [
    "import hylightpy"
   ]
  },
  {
   "cell_type": "markdown",
   "id": "4e240b4a-bfdc-4187-83dd-0daa86919d11",
   "metadata": {},
   "source": [
    "First, we initialise the class with a 10-level atom in Case~B, enabling radiative recombination only (i.e. shutting down collisional excitation from the ground states). \n",
    "\n",
    "Here, we only use 10 levels for simplcity. The user should caution that 10 levels are sufficient to accurately predict H$\\alpha$ emissivity. \n",
    "\n",
    "The following line will create a cache directory in your working directory. There is the optional to point to a user-defined path. \n",
    "\n",
    "We use a cache folder to store the cascade matrix elements so that we don't need to compute them everytime. "
   ]
  },
  {
   "cell_type": "code",
   "execution_count": 3,
   "id": "2cc62ef3-326e-48df-83d8-f249765ffaf6",
   "metadata": {},
   "outputs": [
    {
     "name": "stdout",
     "output_type": "stream",
     "text": [
      " ░▒▓█▓▒░░▒▓█▓▒░▒▓█▓▒░░▒▓█▓▒░▒▓█▓▒░      ░▒▓█▓▒░░▒▓██████▓▒░░▒▓█▓▒░░▒▓█▓▒░▒▓████████▓▒░ \n",
      " ░▒▓█▓▒░░▒▓█▓▒░▒▓█▓▒░░▒▓█▓▒░▒▓█▓▒░      ░▒▓█▓▒░▒▓█▓▒░░▒▓█▓▒░▒▓█▓▒░░▒▓█▓▒░  ░▒▓█▓▒░     \n",
      " ░▒▓█▓▒░░▒▓█▓▒░▒▓█▓▒░░▒▓█▓▒░▒▓█▓▒░      ░▒▓█▓▒░▒▓█▓▒░      ░▒▓█▓▒░░▒▓█▓▒░  ░▒▓█▓▒░     \n",
      " ░▒▓████████▓▒░░▒▓██████▓▒░░▒▓█▓▒░      ░▒▓█▓▒░▒▓█▓▒▒▓███▓▒░▒▓████████▓▒░  ░▒▓█▓▒░     \n",
      " ░▒▓█▓▒░░▒▓█▓▒░  ░▒▓█▓▒░   ░▒▓█▓▒░      ░▒▓█▓▒░▒▓█▓▒░░▒▓█▓▒░▒▓█▓▒░░▒▓█▓▒░  ░▒▓█▓▒░     \n",
      " ░▒▓█▓▒░░▒▓█▓▒░  ░▒▓█▓▒░   ░▒▓█▓▒░      ░▒▓█▓▒░▒▓█▓▒░░▒▓█▓▒░▒▓█▓▒░░▒▓█▓▒░  ░▒▓█▓▒░     \n",
      " ░▒▓█▓▒░░▒▓█▓▒░  ░▒▓█▓▒░   ░▒▓████████▓▒░▒▓█▓▒░░▒▓██████▓▒░░▒▓█▓▒░░▒▓█▓▒░  ░▒▓█▓▒░     \n",
      "Folder './cache/' already exists.\n",
      " ... Read numerical data in time 0.37\n",
      " ... Einstein dictionary pickled to file Einstein_As.pickle\n",
      " ... Imposing caseB (no Lyman-transitions) \n",
      "Recombination rates read and fitted\n",
      "Collsional Excitaion Rates read and fitted\n",
      " ... Cascade matrix: P copied in time 0.01 s\n",
      " ... Cascade matrix: probability matrix computed (eq. 4.8) in time 0.00\n",
      " ... Cascade matrix: transpose of probability matrix computed in time 0.00\n",
      " ... Cascade matrix: matrix initialized (eq. 4.10) in time 0.00\n",
      " ...    Computed level = 10 in time 0.01, len = 9\n",
      " ...    Computed level = 9 in time 0.01, len = 8\n",
      " ...    Computed level = 8 in time 0.00, len = 7\n",
      " ...    Computed level = 7 in time 0.00, len = 6\n",
      " ...    Computed level = 6 in time 0.00, len = 5\n",
      " ...    Computed level = 5 in time 0.00, len = 4\n",
      " ...    Computed level = 4 in time 0.00, len = 3\n",
      " ...    Computed level = 3 in time 0.00, len = 2\n",
      " ...    Computed level = 2 in time 0.00, len = 1\n",
      " ...    Computed level = 1 in time 0.00, len = 0\n",
      " ... Cascade matrix: calculation finished in time 0.03s\n",
      "Cascade matric elements pickled to file  CascadeC_10_B.pickle\n",
      "Cascade matrix class initialized \n",
      "Class initialized\n"
     ]
    }
   ],
   "source": [
    "HI = hylightpy.HILevelPopulations(nmax = 10, verbose=True, caseB=True,\n",
    "                        recom=True, coll=False, cache_path='./cache/')\n",
    "\n",
    "print(\"Class initialized\")"
   ]
  },
  {
   "cell_type": "markdown",
   "id": "0238fc49-3927-4d1e-abfa-8f3b34dd935a",
   "metadata": {},
   "source": [
    "We storeed the Einstein $A$ coefficients in the class. They can be viewed using the following line, where we use the ($n$,$l$) to denote the atomic states. "
   ]
  },
  {
   "cell_type": "code",
   "execution_count": 8,
   "id": "67dd3e48-b969-4d32-b7fa-13c55226d964",
   "metadata": {},
   "outputs": [
    {
     "data": {
      "text/plain": [
       "np.float64(22436400.0)"
      ]
     },
     "execution_count": 8,
     "metadata": {},
     "output_type": "execute_result"
    }
   ],
   "source": [
    "# Einstein coefficients correponding to 3p -> 2s transition\n",
    "HI.A[(3,1)][(2,0)]"
   ]
  },
  {
   "cell_type": "markdown",
   "id": "261a3021-cb6a-4525-891f-fe1ef116a856",
   "metadata": {},
   "source": [
    "Note that in Case~B, the Lyman transitions are optically thick, hence we force the Einstein $A$ values of the Lyman transitions to be zero. "
   ]
  },
  {
   "cell_type": "code",
   "execution_count": 10,
   "id": "e8dfed7d-0932-432c-865b-f2d182f36571",
   "metadata": {},
   "outputs": [
    {
     "data": {
      "text/plain": [
       "0.0"
      ]
     },
     "execution_count": 10,
     "metadata": {},
     "output_type": "execute_result"
    }
   ],
   "source": [
    "# Einstein coefficients correponding to 2p -> 1s transition, 0 in Case B\n",
    "HI.A[(2,1)][(1,0)]"
   ]
  },
  {
   "cell_type": "markdown",
   "id": "e8b044f5-8d98-4dfc-910e-4bb25558f7f8",
   "metadata": {},
   "source": [
    "## Level population for a specific state"
   ]
  },
  {
   "cell_type": "markdown",
   "id": "b1ce1755-4952-4763-8fa9-b02d287cf519",
   "metadata": {},
   "source": [
    "The user specifies the electron density, HI and HII density as well as the temperature and the specific state they are intersted in. \n",
    "In the following example, we set the electron density and HII density to 100 cm$^{-3}$ and the HI density to 10$^{-5}$ cm$^{-3}$. As an example, we calculate the 3$s$ level population density at 10$^4$ K. \n",
    "\n",
    "All units are in CGS, i.e. density in cm$^{-3}$. "
   ]
  },
  {
   "cell_type": "code",
   "execution_count": 6,
   "id": "439affe0-76cd-4757-9d95-c96ad9b01a86",
   "metadata": {},
   "outputs": [
    {
     "name": "stdout",
     "output_type": "stream",
     "text": [
      "The 3s level population density 1.49e-17 cm^(-3)\n"
     ]
    }
   ],
   "source": [
    "levelpop_3s = HI.ComputeLevelPop(ne=1e2, nHI=1e-5, nHII=1e2, LogT=4, n=3, l=1)\n",
    "print('The 3s level population density {:.2e} cm^(-3)'.format(levelpop_3s))"
   ]
  },
  {
   "cell_type": "markdown",
   "id": "a30969c8-b1d2-4425-83e1-527ba8140172",
   "metadata": {},
   "source": [
    "### Temperature dependence of the level population"
   ]
  },
  {
   "cell_type": "markdown",
   "id": "08f243d6-2326-4737-8d9a-a52170f62291",
   "metadata": {},
   "source": [
    "We demonstrate the temperature dependence of level popualtion 3$s$ in the following example. "
   ]
  },
  {
   "cell_type": "code",
   "execution_count": 21,
   "id": "05dc2829-21ad-4b0b-b861-71639cec41b2",
   "metadata": {},
   "outputs": [],
   "source": [
    "from matplotlib import pyplot as plt\n",
    "import numpy as np"
   ]
  },
  {
   "cell_type": "code",
   "execution_count": 22,
   "id": "af656c70-933d-44dc-9b76-8e325ac501d4",
   "metadata": {},
   "outputs": [],
   "source": [
    "n = 3\n",
    "l = 0\n",
    "logT_list = [1, 1.5, 2, 2.5, 3, 3.5, 4, 4.5, 5]\n",
    "levelpop = np.zeros_like(logT_list, dtype=float)\n",
    "for i, logT in enumerate(logT_list):\n",
    "    levelpop[i] = HI.ComputeLevelPop(ne=1e2, nHI=1e-5, nHII=1e2, LogT=logT, n=3, l=1)"
   ]
  },
  {
   "cell_type": "code",
   "execution_count": 23,
   "id": "f7c93e77-3789-4aef-b8f9-e102d49aebdb",
   "metadata": {},
   "outputs": [
    {
     "data": {
      "image/png": "[encoded data removed]",
      "text/plain": [
       "<Figure size 400x400 with 1 Axes>"
      ]
     },
     "metadata": {},
     "output_type": "display_data"
    }
   ],
   "source": [
    "fig, ax = plt.subplots(1, 1, figsize=(4, 4))\n",
    "\n",
    "ax.plot(logT_list, np.log10(levelpop), color='#FF1F5B', linestyle='-', markersize=2)\n",
    "\n",
    "ax.set_yscale('linear')\n",
    "ax.set_xscale('linear')\n",
    "ax.set_xlabel(r'log $T$ [K]')\n",
    "ax.set_ylabel(r'log $n_{3s}$ [cm$^{-3}$]')\n",
    "ax.set_xlim(1, 5)\n",
    "ax.tick_params(axis=\"y\",direction=\"in\")\n",
    "ax.tick_params(axis=\"x\",direction=\"in\")"
   ]
  },
  {
   "cell_type": "code",
   "execution_count": null,
   "id": "6279e079-181f-4d84-8ed9-4155d9ad854f",
   "metadata": {},
   "outputs": [],
   "source": []
  }
 ],
 "metadata": {
  "kernelspec": {
   "display_name": "Python 3.12.4 virtual environment",
   "language": "python",
   "name": "python3.12.4-env"
  },
  "language_info": {
   "codemirror_mode": {
    "name": "ipython",
    "version": 3
   },
   "file_extension": ".py",
   "mimetype": "text/x-python",
   "name": "python",
   "nbconvert_exporter": "python",
   "pygments_lexer": "ipython3",
   "version": "3.12.4"
  }
 },
 "nbformat": 4,
 "nbformat_minor": 5
}
